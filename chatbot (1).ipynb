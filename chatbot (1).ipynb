{
  "cells": [
    {
      "cell_type": "code",
      "execution_count": 26,
      "metadata": {
        "colab": {
          "base_uri": "https://localhost:8080/",
          "height": 775
        },
        "id": "e5_QxvtIBLVE",
        "outputId": "ca066279-8cf3-4a91-d019-eec8080cd90e"
      },
      "outputs": [
        {
          "output_type": "stream",
          "name": "stdout",
          "text": [
            "Requirement already satisfied: groq in /usr/local/lib/python3.10/dist-packages (0.11.0)\n",
            "Requirement already satisfied: anyio<5,>=3.5.0 in /usr/local/lib/python3.10/dist-packages (from groq) (3.7.1)\n",
            "Requirement already satisfied: distro<2,>=1.7.0 in /usr/lib/python3/dist-packages (from groq) (1.7.0)\n",
            "Requirement already satisfied: httpx<1,>=0.23.0 in /usr/local/lib/python3.10/dist-packages (from groq) (0.27.2)\n",
            "Requirement already satisfied: pydantic<3,>=1.9.0 in /usr/local/lib/python3.10/dist-packages (from groq) (2.9.2)\n",
            "Requirement already satisfied: sniffio in /usr/local/lib/python3.10/dist-packages (from groq) (1.3.1)\n",
            "Requirement already satisfied: typing-extensions<5,>=4.7 in /usr/local/lib/python3.10/dist-packages (from groq) (4.12.2)\n",
            "Requirement already satisfied: idna>=2.8 in /usr/local/lib/python3.10/dist-packages (from anyio<5,>=3.5.0->groq) (3.10)\n",
            "Requirement already satisfied: exceptiongroup in /usr/local/lib/python3.10/dist-packages (from anyio<5,>=3.5.0->groq) (1.2.2)\n",
            "Requirement already satisfied: certifi in /usr/local/lib/python3.10/dist-packages (from httpx<1,>=0.23.0->groq) (2024.8.30)\n",
            "Requirement already satisfied: httpcore==1.* in /usr/local/lib/python3.10/dist-packages (from httpx<1,>=0.23.0->groq) (1.0.6)\n",
            "Requirement already satisfied: h11<0.15,>=0.13 in /usr/local/lib/python3.10/dist-packages (from httpcore==1.*->httpx<1,>=0.23.0->groq) (0.14.0)\n",
            "Requirement already satisfied: annotated-types>=0.6.0 in /usr/local/lib/python3.10/dist-packages (from pydantic<3,>=1.9.0->groq) (0.7.0)\n",
            "Requirement already satisfied: pydantic-core==2.23.4 in /usr/local/lib/python3.10/dist-packages (from pydantic<3,>=1.9.0->groq) (2.23.4)\n",
            "Welcome to Guardian Angel AI! Your personalized financial assistant.\n",
            "I’m here to answer your finance questions and provide actionable insights.\n",
            "Type 'quit' or 'exit' anytime to end the conversation.\n",
            "\n",
            "You: tell me 2 laws about women safety\n",
            "Guardian Angel AI: Here are two laws related to women's safety in India:\n",
            "\n",
            "1. **The Protection of Women from Domestic Violence Act, 2005**: This law aims to provide protection to women from domestic violence, including physical, emotional, and financial abuse. It provides for the right of a woman to reside in a shared household and to seek protection from the court, and also provides for the appointment of Protection Officers to help women in distress.\n",
            "\n",
            "2. **The Sexual Harassment of Women at Workplace (Prevention, Prohibition and Redressal) Act, 2013**: This law aims to provide protection to women from sexual harassment at the workplace. It defines sexual harassment and provides a framework for dealing with complaints of harassment. The law requires all workplaces with more than 10 employees to set up an Internal Complaints Committee (ICC) to investigate and redress complaints of harassment.\n",
            "\n"
          ]
        },
        {
          "output_type": "error",
          "ename": "KeyboardInterrupt",
          "evalue": "Interrupted by user",
          "traceback": [
            "\u001b[0;31m---------------------------------------------------------------------------\u001b[0m",
            "\u001b[0;31mKeyboardInterrupt\u001b[0m                         Traceback (most recent call last)",
            "\u001b[0;32m<ipython-input-26-6004628f903f>\u001b[0m in \u001b[0;36m<cell line: 57>\u001b[0;34m()\u001b[0m\n\u001b[1;32m     58\u001b[0m     \u001b[0;31m# Instantiate and run the AI assistant\u001b[0m\u001b[0;34m\u001b[0m\u001b[0;34m\u001b[0m\u001b[0m\n\u001b[1;32m     59\u001b[0m     \u001b[0massistant\u001b[0m \u001b[0;34m=\u001b[0m \u001b[0mGuardianAngelAI\u001b[0m\u001b[0;34m(\u001b[0m\u001b[0;34m)\u001b[0m\u001b[0;34m\u001b[0m\u001b[0;34m\u001b[0m\u001b[0m\n\u001b[0;32m---> 60\u001b[0;31m     \u001b[0massistant\u001b[0m\u001b[0;34m.\u001b[0m\u001b[0mrun_assistant\u001b[0m\u001b[0;34m(\u001b[0m\u001b[0;34m)\u001b[0m\u001b[0;34m\u001b[0m\u001b[0;34m\u001b[0m\u001b[0m\n\u001b[0m",
            "\u001b[0;32m<ipython-input-26-6004628f903f>\u001b[0m in \u001b[0;36mrun_assistant\u001b[0;34m(self)\u001b[0m\n\u001b[1;32m     31\u001b[0m         \u001b[0;32mwhile\u001b[0m \u001b[0;32mTrue\u001b[0m\u001b[0;34m:\u001b[0m\u001b[0;34m\u001b[0m\u001b[0;34m\u001b[0m\u001b[0m\n\u001b[1;32m     32\u001b[0m             \u001b[0;31m# Get input from the user\u001b[0m\u001b[0;34m\u001b[0m\u001b[0;34m\u001b[0m\u001b[0m\n\u001b[0;32m---> 33\u001b[0;31m             \u001b[0muser_input\u001b[0m \u001b[0;34m=\u001b[0m \u001b[0minput\u001b[0m\u001b[0;34m(\u001b[0m\u001b[0;34m\"You: \"\u001b[0m\u001b[0;34m)\u001b[0m\u001b[0;34m\u001b[0m\u001b[0;34m\u001b[0m\u001b[0m\n\u001b[0m\u001b[1;32m     34\u001b[0m \u001b[0;34m\u001b[0m\u001b[0m\n\u001b[1;32m     35\u001b[0m             \u001b[0;31m# Check if the user wants to quit\u001b[0m\u001b[0;34m\u001b[0m\u001b[0;34m\u001b[0m\u001b[0m\n",
            "\u001b[0;32m/usr/local/lib/python3.10/dist-packages/ipykernel/kernelbase.py\u001b[0m in \u001b[0;36mraw_input\u001b[0;34m(self, prompt)\u001b[0m\n\u001b[1;32m    849\u001b[0m                 \u001b[0;34m\"raw_input was called, but this frontend does not support input requests.\"\u001b[0m\u001b[0;34m\u001b[0m\u001b[0;34m\u001b[0m\u001b[0m\n\u001b[1;32m    850\u001b[0m             )\n\u001b[0;32m--> 851\u001b[0;31m         return self._input_request(str(prompt),\n\u001b[0m\u001b[1;32m    852\u001b[0m             \u001b[0mself\u001b[0m\u001b[0;34m.\u001b[0m\u001b[0m_parent_ident\u001b[0m\u001b[0;34m,\u001b[0m\u001b[0;34m\u001b[0m\u001b[0;34m\u001b[0m\u001b[0m\n\u001b[1;32m    853\u001b[0m             \u001b[0mself\u001b[0m\u001b[0;34m.\u001b[0m\u001b[0m_parent_header\u001b[0m\u001b[0;34m,\u001b[0m\u001b[0;34m\u001b[0m\u001b[0;34m\u001b[0m\u001b[0m\n",
            "\u001b[0;32m/usr/local/lib/python3.10/dist-packages/ipykernel/kernelbase.py\u001b[0m in \u001b[0;36m_input_request\u001b[0;34m(self, prompt, ident, parent, password)\u001b[0m\n\u001b[1;32m    893\u001b[0m             \u001b[0;32mexcept\u001b[0m \u001b[0mKeyboardInterrupt\u001b[0m\u001b[0;34m:\u001b[0m\u001b[0;34m\u001b[0m\u001b[0;34m\u001b[0m\u001b[0m\n\u001b[1;32m    894\u001b[0m                 \u001b[0;31m# re-raise KeyboardInterrupt, to truncate traceback\u001b[0m\u001b[0;34m\u001b[0m\u001b[0;34m\u001b[0m\u001b[0m\n\u001b[0;32m--> 895\u001b[0;31m                 \u001b[0;32mraise\u001b[0m \u001b[0mKeyboardInterrupt\u001b[0m\u001b[0;34m(\u001b[0m\u001b[0;34m\"Interrupted by user\"\u001b[0m\u001b[0;34m)\u001b[0m \u001b[0;32mfrom\u001b[0m \u001b[0;32mNone\u001b[0m\u001b[0;34m\u001b[0m\u001b[0;34m\u001b[0m\u001b[0m\n\u001b[0m\u001b[1;32m    896\u001b[0m             \u001b[0;32mexcept\u001b[0m \u001b[0mException\u001b[0m \u001b[0;32mas\u001b[0m \u001b[0me\u001b[0m\u001b[0;34m:\u001b[0m\u001b[0;34m\u001b[0m\u001b[0;34m\u001b[0m\u001b[0m\n\u001b[1;32m    897\u001b[0m                 \u001b[0mself\u001b[0m\u001b[0;34m.\u001b[0m\u001b[0mlog\u001b[0m\u001b[0;34m.\u001b[0m\u001b[0mwarning\u001b[0m\u001b[0;34m(\u001b[0m\u001b[0;34m\"Invalid Message:\"\u001b[0m\u001b[0;34m,\u001b[0m \u001b[0mexc_info\u001b[0m\u001b[0;34m=\u001b[0m\u001b[0;32mTrue\u001b[0m\u001b[0;34m)\u001b[0m\u001b[0;34m\u001b[0m\u001b[0;34m\u001b[0m\u001b[0m\n",
            "\u001b[0;31mKeyboardInterrupt\u001b[0m: Interrupted by user"
          ]
        }
      ],
      "source": [
        "import os\n",
        "# Ensure correct package installation\n",
        "!pip install groq\n",
        "\n",
        "from groq import Groq\n",
        "\n",
        "# Set the API key\n",
        "os.environ['GROQ_API_KEY'] = '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'\n",
        "\n",
        "class GuardianAngelAI:\n",
        "    def __init__(self):  # Corrected method name to __init__\n",
        "        \"\"\"\n",
        "        Initialize Guardian Angel AI using LLaMA 90B for continuous user interaction.\n",
        "        \"\"\"\n",
        "        # Retrieve API key from environment variable\n",
        "        self.api_key = os.environ.get('GROQ_API_KEY')\n",
        "        if not self.api_key:\n",
        "            raise ValueError(\"Groq API key must be provided in the GROQ_API_KEY environment variable.\")\n",
        "\n",
        "        # Initialize Groq client with the API key\n",
        "        self.client = Groq(api_key=self.api_key)\n",
        "        print(\"Welcome to Guardian Angel AI! Your personalized financial assistant.\")\n",
        "        print(\"I’m here to answer your finance questions and provide actionable insights.\")\n",
        "        print(\"Type 'quit' or 'exit' anytime to end the conversation.\\n\")\n",
        "\n",
        "    def run_assistant(self):\n",
        "        \"\"\"\n",
        "        Engage in a continuous request-response interaction with the user until they decide to exit.\n",
        "        \"\"\"\n",
        "        # Start loop for continuous conversation\n",
        "        while True:\n",
        "            # Get input from the user\n",
        "            user_input = input(\"You: \")\n",
        "\n",
        "            # Check if the user wants to quit\n",
        "            if user_input.lower() in [\"quit\", \"exit\"]:\n",
        "                print(\"Thank you for using Guardian Angel AI. Goodbye!\")\n",
        "                break\n",
        "\n",
        "            # Generate response from LLaMA 90B model\n",
        "            try:\n",
        "                response = self.client.chat.completions.create(\n",
        "                    model=\"llama-3.2-90b-text-preview\",\n",
        "                    messages=[{\"role\": \"user\", \"content\": user_input}],\n",
        "                    temperature=0.7\n",
        "                )\n",
        "\n",
        "                # Extract and print the AI response\n",
        "                ai_response = response.choices[0].message.content.strip()\n",
        "                print(f\"Guardian Angel AI: {ai_response}\\n\")\n",
        "\n",
        "            except Exception as e:\n",
        "                print(f\"Error processing request: {str(e)}\")\n",
        "\n",
        "\n",
        "# Running Guardian Angel AI\n",
        "if __name__ == \"__main__\":\n",
        "    # Instantiate and run the AI assistant\n",
        "    assistant = GuardianAngelAI()\n",
        "    assistant.run_assistant()"
      ]
    },
    {
      "cell_type": "code",
      "source": [],
      "metadata": {
        "id": "jrGF5AKigWS9"
      },
      "execution_count": null,
      "outputs": []
    }
  ],
  "metadata": {
    "colab": {
      "provenance": [],
      "gpuType": "T4"
    },
    "kernelspec": {
      "display_name": "Python 3",
      "name": "python3"
    },
    "language_info": {
      "name": "python"
    },
    "accelerator": "GPU"
  },
  "nbformat": 4,
  "nbformat_minor": 0
}